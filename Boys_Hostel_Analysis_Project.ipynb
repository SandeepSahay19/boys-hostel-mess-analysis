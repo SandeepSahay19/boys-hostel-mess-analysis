{
 "cells": [
  {
   "cell_type": "markdown",
   "id": "74cbd08b",
   "metadata": {},
   "source": [
    "# 1. Read and load file \n",
    "# Import reqired python libraries "
   ]
  },
  {
   "cell_type": "code",
   "execution_count": 2,
   "id": "ac191235",
   "metadata": {},
   "outputs": [],
   "source": [
    "import pandas as pd\n",
    "import matplotlib.pyplot as plt\n",
    "import seaborn as sns \n"
   ]
  },
  {
   "cell_type": "code",
   "execution_count": 3,
   "id": "0acad43f",
   "metadata": {},
   "outputs": [
    {
     "data": {
      "text/html": [
       "<div>\n",
       "<style scoped>\n",
       "    .dataframe tbody tr th:only-of-type {\n",
       "        vertical-align: middle;\n",
       "    }\n",
       "\n",
       "    .dataframe tbody tr th {\n",
       "        vertical-align: top;\n",
       "    }\n",
       "\n",
       "    .dataframe thead th {\n",
       "        text-align: right;\n",
       "    }\n",
       "</style>\n",
       "<table border=\"1\" class=\"dataframe\">\n",
       "  <thead>\n",
       "    <tr style=\"text-align: right;\">\n",
       "      <th></th>\n",
       "      <th>Days</th>\n",
       "      <th>breakfast</th>\n",
       "      <th>lunch</th>\n",
       "      <th>snacks</th>\n",
       "      <th>dinnner</th>\n",
       "    </tr>\n",
       "  </thead>\n",
       "  <tbody>\n",
       "    <tr>\n",
       "      <th>0</th>\n",
       "      <td>Monday</td>\n",
       "      <td>74</td>\n",
       "      <td>162</td>\n",
       "      <td>144</td>\n",
       "      <td>170</td>\n",
       "    </tr>\n",
       "    <tr>\n",
       "      <th>1</th>\n",
       "      <td>Tuesday</td>\n",
       "      <td>105</td>\n",
       "      <td>155</td>\n",
       "      <td>132</td>\n",
       "      <td>168</td>\n",
       "    </tr>\n",
       "    <tr>\n",
       "      <th>2</th>\n",
       "      <td>Wednesday</td>\n",
       "      <td>165</td>\n",
       "      <td>173</td>\n",
       "      <td>170</td>\n",
       "      <td>175</td>\n",
       "    </tr>\n",
       "    <tr>\n",
       "      <th>3</th>\n",
       "      <td>Thursday</td>\n",
       "      <td>115</td>\n",
       "      <td>153</td>\n",
       "      <td>147</td>\n",
       "      <td>171</td>\n",
       "    </tr>\n",
       "    <tr>\n",
       "      <th>4</th>\n",
       "      <td>Friday</td>\n",
       "      <td>135</td>\n",
       "      <td>175</td>\n",
       "      <td>138</td>\n",
       "      <td>156</td>\n",
       "    </tr>\n",
       "    <tr>\n",
       "      <th>5</th>\n",
       "      <td>Saturday</td>\n",
       "      <td>98</td>\n",
       "      <td>122</td>\n",
       "      <td>129</td>\n",
       "      <td>145</td>\n",
       "    </tr>\n",
       "    <tr>\n",
       "      <th>6</th>\n",
       "      <td>Sunday</td>\n",
       "      <td>94</td>\n",
       "      <td>129</td>\n",
       "      <td>124</td>\n",
       "      <td>136</td>\n",
       "    </tr>\n",
       "  </tbody>\n",
       "</table>\n",
       "</div>"
      ],
      "text/plain": [
       "        Days  breakfast  lunch  snacks  dinnner\n",
       "0     Monday         74    162     144      170\n",
       "1    Tuesday        105    155     132      168\n",
       "2  Wednesday        165    173     170      175\n",
       "3   Thursday        115    153     147      171\n",
       "4     Friday        135    175     138      156\n",
       "5   Saturday         98    122     129      145\n",
       "6     Sunday         94    129     124      136"
      ]
     },
     "execution_count": 3,
     "metadata": {},
     "output_type": "execute_result"
    }
   ],
   "source": [
    "df = pd.read_excel('boys_hostel_mess.xlsx')\n",
    "df\n"
   ]
  },
  {
   "cell_type": "markdown",
   "id": "0ccad183",
   "metadata": {},
   "source": [
    " # 2.Number of rows and columns in this dataset? \n",
    " "
   ]
  },
  {
   "cell_type": "code",
   "execution_count": 83,
   "id": "6d7ad03f",
   "metadata": {},
   "outputs": [
    {
     "data": {
      "text/plain": [
       "(7, 5)"
      ]
     },
     "execution_count": 83,
     "metadata": {},
     "output_type": "execute_result"
    }
   ],
   "source": [
    "df.shape"
   ]
  },
  {
   "cell_type": "markdown",
   "id": "b59e0f06",
   "metadata": {},
   "source": [
    "### Number of rows =7\n",
    "### Number of columns = 5"
   ]
  },
  {
   "cell_type": "markdown",
   "id": "d5fbae58",
   "metadata": {},
   "source": [
    "## 3.Top 5 rows of the dataset"
   ]
  },
  {
   "cell_type": "code",
   "execution_count": 84,
   "id": "4abc278d",
   "metadata": {},
   "outputs": [
    {
     "data": {
      "text/html": [
       "<div>\n",
       "<style scoped>\n",
       "    .dataframe tbody tr th:only-of-type {\n",
       "        vertical-align: middle;\n",
       "    }\n",
       "\n",
       "    .dataframe tbody tr th {\n",
       "        vertical-align: top;\n",
       "    }\n",
       "\n",
       "    .dataframe thead th {\n",
       "        text-align: right;\n",
       "    }\n",
       "</style>\n",
       "<table border=\"1\" class=\"dataframe\">\n",
       "  <thead>\n",
       "    <tr style=\"text-align: right;\">\n",
       "      <th></th>\n",
       "      <th>Days</th>\n",
       "      <th>breakfast</th>\n",
       "      <th>lunch</th>\n",
       "      <th>snacks</th>\n",
       "      <th>dinnner</th>\n",
       "    </tr>\n",
       "  </thead>\n",
       "  <tbody>\n",
       "    <tr>\n",
       "      <th>0</th>\n",
       "      <td>Monday</td>\n",
       "      <td>74</td>\n",
       "      <td>162</td>\n",
       "      <td>144</td>\n",
       "      <td>170</td>\n",
       "    </tr>\n",
       "    <tr>\n",
       "      <th>1</th>\n",
       "      <td>Tuesday</td>\n",
       "      <td>105</td>\n",
       "      <td>155</td>\n",
       "      <td>132</td>\n",
       "      <td>168</td>\n",
       "    </tr>\n",
       "    <tr>\n",
       "      <th>2</th>\n",
       "      <td>Wednesday</td>\n",
       "      <td>165</td>\n",
       "      <td>173</td>\n",
       "      <td>170</td>\n",
       "      <td>175</td>\n",
       "    </tr>\n",
       "    <tr>\n",
       "      <th>3</th>\n",
       "      <td>Thursday</td>\n",
       "      <td>115</td>\n",
       "      <td>153</td>\n",
       "      <td>147</td>\n",
       "      <td>171</td>\n",
       "    </tr>\n",
       "    <tr>\n",
       "      <th>4</th>\n",
       "      <td>Friday</td>\n",
       "      <td>135</td>\n",
       "      <td>175</td>\n",
       "      <td>138</td>\n",
       "      <td>156</td>\n",
       "    </tr>\n",
       "  </tbody>\n",
       "</table>\n",
       "</div>"
      ],
      "text/plain": [
       "        Days  breakfast  lunch  snacks  dinnner\n",
       "0     Monday         74    162     144      170\n",
       "1    Tuesday        105    155     132      168\n",
       "2  Wednesday        165    173     170      175\n",
       "3   Thursday        115    153     147      171\n",
       "4     Friday        135    175     138      156"
      ]
     },
     "execution_count": 84,
     "metadata": {},
     "output_type": "execute_result"
    }
   ],
   "source": [
    "df.head()"
   ]
  },
  {
   "cell_type": "markdown",
   "id": "7531f096",
   "metadata": {},
   "source": [
    "## 4. Bottom 5 rows of the dataset "
   ]
  },
  {
   "cell_type": "code",
   "execution_count": 85,
   "id": "976ff366",
   "metadata": {},
   "outputs": [
    {
     "data": {
      "text/html": [
       "<div>\n",
       "<style scoped>\n",
       "    .dataframe tbody tr th:only-of-type {\n",
       "        vertical-align: middle;\n",
       "    }\n",
       "\n",
       "    .dataframe tbody tr th {\n",
       "        vertical-align: top;\n",
       "    }\n",
       "\n",
       "    .dataframe thead th {\n",
       "        text-align: right;\n",
       "    }\n",
       "</style>\n",
       "<table border=\"1\" class=\"dataframe\">\n",
       "  <thead>\n",
       "    <tr style=\"text-align: right;\">\n",
       "      <th></th>\n",
       "      <th>Days</th>\n",
       "      <th>breakfast</th>\n",
       "      <th>lunch</th>\n",
       "      <th>snacks</th>\n",
       "      <th>dinnner</th>\n",
       "    </tr>\n",
       "  </thead>\n",
       "  <tbody>\n",
       "    <tr>\n",
       "      <th>2</th>\n",
       "      <td>Wednesday</td>\n",
       "      <td>165</td>\n",
       "      <td>173</td>\n",
       "      <td>170</td>\n",
       "      <td>175</td>\n",
       "    </tr>\n",
       "    <tr>\n",
       "      <th>3</th>\n",
       "      <td>Thursday</td>\n",
       "      <td>115</td>\n",
       "      <td>153</td>\n",
       "      <td>147</td>\n",
       "      <td>171</td>\n",
       "    </tr>\n",
       "    <tr>\n",
       "      <th>4</th>\n",
       "      <td>Friday</td>\n",
       "      <td>135</td>\n",
       "      <td>175</td>\n",
       "      <td>138</td>\n",
       "      <td>156</td>\n",
       "    </tr>\n",
       "    <tr>\n",
       "      <th>5</th>\n",
       "      <td>Saturday</td>\n",
       "      <td>98</td>\n",
       "      <td>122</td>\n",
       "      <td>129</td>\n",
       "      <td>145</td>\n",
       "    </tr>\n",
       "    <tr>\n",
       "      <th>6</th>\n",
       "      <td>Sunday</td>\n",
       "      <td>94</td>\n",
       "      <td>129</td>\n",
       "      <td>124</td>\n",
       "      <td>136</td>\n",
       "    </tr>\n",
       "  </tbody>\n",
       "</table>\n",
       "</div>"
      ],
      "text/plain": [
       "        Days  breakfast  lunch  snacks  dinnner\n",
       "2  Wednesday        165    173     170      175\n",
       "3   Thursday        115    153     147      171\n",
       "4     Friday        135    175     138      156\n",
       "5   Saturday         98    122     129      145\n",
       "6     Sunday         94    129     124      136"
      ]
     },
     "execution_count": 85,
     "metadata": {},
     "output_type": "execute_result"
    }
   ],
   "source": [
    "df.tail()"
   ]
  },
  {
   "cell_type": "markdown",
   "id": "2d7d5cba",
   "metadata": {},
   "source": [
    "## 5.How many boys had thier breakfast , lunch , snacks and dinner on different days of week ?"
   ]
  },
  {
   "cell_type": "code",
   "execution_count": 87,
   "id": "70c96d4f",
   "metadata": {},
   "outputs": [
    {
     "data": {
      "text/html": [
       "<div>\n",
       "<style scoped>\n",
       "    .dataframe tbody tr th:only-of-type {\n",
       "        vertical-align: middle;\n",
       "    }\n",
       "\n",
       "    .dataframe tbody tr th {\n",
       "        vertical-align: top;\n",
       "    }\n",
       "\n",
       "    .dataframe thead th {\n",
       "        text-align: right;\n",
       "    }\n",
       "</style>\n",
       "<table border=\"1\" class=\"dataframe\">\n",
       "  <thead>\n",
       "    <tr style=\"text-align: right;\">\n",
       "      <th></th>\n",
       "      <th>Days</th>\n",
       "      <th>breakfast</th>\n",
       "      <th>lunch</th>\n",
       "      <th>snacks</th>\n",
       "      <th>dinnner</th>\n",
       "    </tr>\n",
       "  </thead>\n",
       "  <tbody>\n",
       "    <tr>\n",
       "      <th>0</th>\n",
       "      <td>Monday</td>\n",
       "      <td>74</td>\n",
       "      <td>162</td>\n",
       "      <td>144</td>\n",
       "      <td>170</td>\n",
       "    </tr>\n",
       "    <tr>\n",
       "      <th>1</th>\n",
       "      <td>Tuesday</td>\n",
       "      <td>105</td>\n",
       "      <td>155</td>\n",
       "      <td>132</td>\n",
       "      <td>168</td>\n",
       "    </tr>\n",
       "    <tr>\n",
       "      <th>2</th>\n",
       "      <td>Wednesday</td>\n",
       "      <td>165</td>\n",
       "      <td>173</td>\n",
       "      <td>170</td>\n",
       "      <td>175</td>\n",
       "    </tr>\n",
       "    <tr>\n",
       "      <th>3</th>\n",
       "      <td>Thursday</td>\n",
       "      <td>115</td>\n",
       "      <td>153</td>\n",
       "      <td>147</td>\n",
       "      <td>171</td>\n",
       "    </tr>\n",
       "    <tr>\n",
       "      <th>4</th>\n",
       "      <td>Friday</td>\n",
       "      <td>135</td>\n",
       "      <td>175</td>\n",
       "      <td>138</td>\n",
       "      <td>156</td>\n",
       "    </tr>\n",
       "    <tr>\n",
       "      <th>5</th>\n",
       "      <td>Saturday</td>\n",
       "      <td>98</td>\n",
       "      <td>122</td>\n",
       "      <td>129</td>\n",
       "      <td>145</td>\n",
       "    </tr>\n",
       "    <tr>\n",
       "      <th>6</th>\n",
       "      <td>Sunday</td>\n",
       "      <td>94</td>\n",
       "      <td>129</td>\n",
       "      <td>124</td>\n",
       "      <td>136</td>\n",
       "    </tr>\n",
       "  </tbody>\n",
       "</table>\n",
       "</div>"
      ],
      "text/plain": [
       "        Days  breakfast  lunch  snacks  dinnner\n",
       "0     Monday         74    162     144      170\n",
       "1    Tuesday        105    155     132      168\n",
       "2  Wednesday        165    173     170      175\n",
       "3   Thursday        115    153     147      171\n",
       "4     Friday        135    175     138      156\n",
       "5   Saturday         98    122     129      145\n",
       "6     Sunday         94    129     124      136"
      ]
     },
     "execution_count": 87,
     "metadata": {},
     "output_type": "execute_result"
    }
   ],
   "source": [
    "df[[\"Days\",\"breakfast\",\"lunch\",\"snacks\",\"dinnner\"]]"
   ]
  },
  {
   "cell_type": "code",
   "execution_count": 142,
   "id": "f2a6354d",
   "metadata": {},
   "outputs": [
    {
     "data": {
      "image/png": "[encoded data removed]",
      "text/plain": [
       "<Figure size 576x576 with 1 Axes>"
      ]
     },
     "metadata": {
      "needs_background": "light"
     },
     "output_type": "display_data"
    }
   ],
   "source": [
    "import matplotlib.pyplot as plt\n",
    "plt.figure(figsize=(8,8))\n",
    "plt.title('ATTENDENCE OF BOYS IN MESS ON DIFFERENT DAYS ')\n",
    "plt.plot(df.Days , df.dinnner,'b.-',label='dinnner')\n",
    "plt.plot(df.Days, df.breakfast,'y.-',label='breakfast')\n",
    "plt.plot(df.Days,df.lunch,'c.-', label='lunch')\n",
    "plt.plot(df.Days,df.snacks,'g.-',label='snacks')\n",
    "plt.ylabel('NUMBER OF BOYS')\n",
    "plt.legend()\n",
    "plt.show()"
   ]
  },
  {
   "cell_type": "code",
   "execution_count": 136,
   "id": "f508039c",
   "metadata": {},
   "outputs": [
    {
     "data": {
      "image/png": "[encoded data removed]",
      "text/plain": [
       "<Figure size 432x288 with 1 Axes>"
      ]
     },
     "metadata": {
      "needs_background": "light"
     },
     "output_type": "display_data"
    }
   ],
   "source": [
    "df1 = df.plot(x =\"Days\",y=[\"breakfast\",\"lunch\",\"snacks\",\"dinnner\"], kind=\"bar\" , rot=10)"
   ]
  },
  {
   "cell_type": "markdown",
   "id": "009e9da0",
   "metadata": {},
   "source": [
    "## 6. How many boys had thier breakfast on monday?"
   ]
  },
  {
   "cell_type": "code",
   "execution_count": 138,
   "id": "da809372",
   "metadata": {},
   "outputs": [
    {
     "data": {
      "text/html": [
       "<div>\n",
       "<style scoped>\n",
       "    .dataframe tbody tr th:only-of-type {\n",
       "        vertical-align: middle;\n",
       "    }\n",
       "\n",
       "    .dataframe tbody tr th {\n",
       "        vertical-align: top;\n",
       "    }\n",
       "\n",
       "    .dataframe thead th {\n",
       "        text-align: right;\n",
       "    }\n",
       "</style>\n",
       "<table border=\"1\" class=\"dataframe\">\n",
       "  <thead>\n",
       "    <tr style=\"text-align: right;\">\n",
       "      <th></th>\n",
       "      <th>breakfast</th>\n",
       "      <th>Days</th>\n",
       "    </tr>\n",
       "  </thead>\n",
       "  <tbody>\n",
       "    <tr>\n",
       "      <th>0</th>\n",
       "      <td>74</td>\n",
       "      <td>Monday</td>\n",
       "    </tr>\n",
       "    <tr>\n",
       "      <th>1</th>\n",
       "      <td>105</td>\n",
       "      <td>Tuesday</td>\n",
       "    </tr>\n",
       "    <tr>\n",
       "      <th>2</th>\n",
       "      <td>165</td>\n",
       "      <td>Wednesday</td>\n",
       "    </tr>\n",
       "    <tr>\n",
       "      <th>3</th>\n",
       "      <td>115</td>\n",
       "      <td>Thursday</td>\n",
       "    </tr>\n",
       "    <tr>\n",
       "      <th>4</th>\n",
       "      <td>135</td>\n",
       "      <td>Friday</td>\n",
       "    </tr>\n",
       "    <tr>\n",
       "      <th>5</th>\n",
       "      <td>98</td>\n",
       "      <td>Saturday</td>\n",
       "    </tr>\n",
       "    <tr>\n",
       "      <th>6</th>\n",
       "      <td>94</td>\n",
       "      <td>Sunday</td>\n",
       "    </tr>\n",
       "  </tbody>\n",
       "</table>\n",
       "</div>"
      ],
      "text/plain": [
       "   breakfast       Days\n",
       "0         74     Monday\n",
       "1        105    Tuesday\n",
       "2        165  Wednesday\n",
       "3        115   Thursday\n",
       "4        135     Friday\n",
       "5         98   Saturday\n",
       "6         94     Sunday"
      ]
     },
     "execution_count": 138,
     "metadata": {},
     "output_type": "execute_result"
    }
   ],
   "source": [
    "df[['breakfast', 'Days']]\n"
   ]
  },
  {
   "cell_type": "code",
   "execution_count": 98,
   "id": "2e8cbf46",
   "metadata": {},
   "outputs": [
    {
     "data": {
      "text/plain": [
       "<AxesSubplot:title={'center':'ATTENDENCE OF BOYS ON DIFFERENT DAYS FOR BREAKFAST'}, xlabel='Days', ylabel='breakfast'>"
      ]
     },
     "execution_count": 98,
     "metadata": {},
     "output_type": "execute_result"
    },
    {
     "data": {
      "image/png": "[encoded data removed]",
      "text/plain": [
       "<Figure size 576x576 with 1 Axes>"
      ]
     },
     "metadata": {
      "needs_background": "light"
     },
     "output_type": "display_data"
    }
   ],
   "source": [
    "plt.figure(figsize=(8,8))\n",
    "plt.title('ATTENDENCE OF BOYS ON DIFFERENT DAYS FOR BREAKFAST')\n",
    "sns.barplot(x= 'Days',y=\"breakfast\",data = df)\n"
   ]
  },
  {
   "cell_type": "markdown",
   "id": "827508e3",
   "metadata": {},
   "source": [
    "## 7. How many boys had thier breakfast and dinner on monday?"
   ]
  },
  {
   "cell_type": "code",
   "execution_count": 143,
   "id": "09b65694",
   "metadata": {},
   "outputs": [
    {
     "data": {
      "text/html": [
       "<div>\n",
       "<style scoped>\n",
       "    .dataframe tbody tr th:only-of-type {\n",
       "        vertical-align: middle;\n",
       "    }\n",
       "\n",
       "    .dataframe tbody tr th {\n",
       "        vertical-align: top;\n",
       "    }\n",
       "\n",
       "    .dataframe thead th {\n",
       "        text-align: right;\n",
       "    }\n",
       "</style>\n",
       "<table border=\"1\" class=\"dataframe\">\n",
       "  <thead>\n",
       "    <tr style=\"text-align: right;\">\n",
       "      <th></th>\n",
       "      <th>index</th>\n",
       "      <th>0</th>\n",
       "    </tr>\n",
       "  </thead>\n",
       "  <tbody>\n",
       "    <tr>\n",
       "      <th>0</th>\n",
       "      <td>Days</td>\n",
       "      <td>Monday</td>\n",
       "    </tr>\n",
       "    <tr>\n",
       "      <th>1</th>\n",
       "      <td>breakfast</td>\n",
       "      <td>74</td>\n",
       "    </tr>\n",
       "    <tr>\n",
       "      <th>2</th>\n",
       "      <td>dinnner</td>\n",
       "      <td>170</td>\n",
       "    </tr>\n",
       "  </tbody>\n",
       "</table>\n",
       "</div>"
      ],
      "text/plain": [
       "       index       0\n",
       "0       Days  Monday\n",
       "1  breakfast      74\n",
       "2    dinnner     170"
      ]
     },
     "execution_count": 143,
     "metadata": {},
     "output_type": "execute_result"
    }
   ],
   "source": [
    "df[['Days','breakfast','dinnner']].iloc[0].reset_index()"
   ]
  },
  {
   "cell_type": "markdown",
   "id": "4a5f59f9",
   "metadata": {},
   "source": [
    "## 8. How many boys had thier breakfast and dinner on monday and friday?"
   ]
  },
  {
   "cell_type": "code",
   "execution_count": 4,
   "id": "4260dbec",
   "metadata": {},
   "outputs": [
    {
     "data": {
      "text/html": [
       "<div>\n",
       "<style scoped>\n",
       "    .dataframe tbody tr th:only-of-type {\n",
       "        vertical-align: middle;\n",
       "    }\n",
       "\n",
       "    .dataframe tbody tr th {\n",
       "        vertical-align: top;\n",
       "    }\n",
       "\n",
       "    .dataframe thead th {\n",
       "        text-align: right;\n",
       "    }\n",
       "</style>\n",
       "<table border=\"1\" class=\"dataframe\">\n",
       "  <thead>\n",
       "    <tr style=\"text-align: right;\">\n",
       "      <th></th>\n",
       "      <th>index</th>\n",
       "      <th>Days</th>\n",
       "      <th>breakfast</th>\n",
       "      <th>dinnner</th>\n",
       "    </tr>\n",
       "  </thead>\n",
       "  <tbody>\n",
       "    <tr>\n",
       "      <th>0</th>\n",
       "      <td>0</td>\n",
       "      <td>Monday</td>\n",
       "      <td>74</td>\n",
       "      <td>170</td>\n",
       "    </tr>\n",
       "    <tr>\n",
       "      <th>1</th>\n",
       "      <td>4</td>\n",
       "      <td>Friday</td>\n",
       "      <td>135</td>\n",
       "      <td>156</td>\n",
       "    </tr>\n",
       "  </tbody>\n",
       "</table>\n",
       "</div>"
      ],
      "text/plain": [
       "   index    Days  breakfast  dinnner\n",
       "0      0  Monday         74      170\n",
       "1      4  Friday        135      156"
      ]
     },
     "execution_count": 4,
     "metadata": {},
     "output_type": "execute_result"
    }
   ],
   "source": [
    "df[['Days','breakfast','dinnner']].iloc[['0','4']].reset_index() \n"
   ]
  },
  {
   "cell_type": "code",
   "execution_count": 11,
   "id": "56c77a4f",
   "metadata": {},
   "outputs": [
    {
     "data": {
      "image/png": "[encoded data removed]",
      "text/plain": [
       "<Figure size 432x288 with 1 Axes>"
      ]
     },
     "metadata": {
      "needs_background": "light"
     },
     "output_type": "display_data"
    }
   ],
   "source": [
    "df2 = df.plot(x =\"Days\",y=[\"breakfast\",\"dinnner\"], kind=\"bar\" , rot=15)"
   ]
  },
  {
   "cell_type": "markdown",
   "id": "29ec9e7b",
   "metadata": {},
   "source": [
    "## 8. On which day there is maximum attendence in boys hostel mess ? "
   ]
  },
  {
   "cell_type": "code",
   "execution_count": 12,
   "id": "25e106f1",
   "metadata": {},
   "outputs": [
    {
     "data": {
      "text/html": [
       "<div>\n",
       "<style scoped>\n",
       "    .dataframe tbody tr th:only-of-type {\n",
       "        vertical-align: middle;\n",
       "    }\n",
       "\n",
       "    .dataframe tbody tr th {\n",
       "        vertical-align: top;\n",
       "    }\n",
       "\n",
       "    .dataframe thead th {\n",
       "        text-align: right;\n",
       "    }\n",
       "</style>\n",
       "<table border=\"1\" class=\"dataframe\">\n",
       "  <thead>\n",
       "    <tr style=\"text-align: right;\">\n",
       "      <th></th>\n",
       "      <th>Days</th>\n",
       "      <th>breakfast</th>\n",
       "      <th>lunch</th>\n",
       "      <th>snacks</th>\n",
       "      <th>dinnner</th>\n",
       "      <th>Total</th>\n",
       "    </tr>\n",
       "  </thead>\n",
       "  <tbody>\n",
       "    <tr>\n",
       "      <th>0</th>\n",
       "      <td>Monday</td>\n",
       "      <td>74</td>\n",
       "      <td>162</td>\n",
       "      <td>144</td>\n",
       "      <td>170</td>\n",
       "      <td>550</td>\n",
       "    </tr>\n",
       "    <tr>\n",
       "      <th>1</th>\n",
       "      <td>Tuesday</td>\n",
       "      <td>105</td>\n",
       "      <td>155</td>\n",
       "      <td>132</td>\n",
       "      <td>168</td>\n",
       "      <td>560</td>\n",
       "    </tr>\n",
       "    <tr>\n",
       "      <th>2</th>\n",
       "      <td>Wednesday</td>\n",
       "      <td>165</td>\n",
       "      <td>173</td>\n",
       "      <td>170</td>\n",
       "      <td>175</td>\n",
       "      <td>683</td>\n",
       "    </tr>\n",
       "    <tr>\n",
       "      <th>3</th>\n",
       "      <td>Thursday</td>\n",
       "      <td>115</td>\n",
       "      <td>153</td>\n",
       "      <td>147</td>\n",
       "      <td>171</td>\n",
       "      <td>586</td>\n",
       "    </tr>\n",
       "    <tr>\n",
       "      <th>4</th>\n",
       "      <td>Friday</td>\n",
       "      <td>135</td>\n",
       "      <td>175</td>\n",
       "      <td>138</td>\n",
       "      <td>156</td>\n",
       "      <td>604</td>\n",
       "    </tr>\n",
       "    <tr>\n",
       "      <th>5</th>\n",
       "      <td>Saturday</td>\n",
       "      <td>98</td>\n",
       "      <td>122</td>\n",
       "      <td>129</td>\n",
       "      <td>145</td>\n",
       "      <td>494</td>\n",
       "    </tr>\n",
       "    <tr>\n",
       "      <th>6</th>\n",
       "      <td>Sunday</td>\n",
       "      <td>94</td>\n",
       "      <td>129</td>\n",
       "      <td>124</td>\n",
       "      <td>136</td>\n",
       "      <td>483</td>\n",
       "    </tr>\n",
       "  </tbody>\n",
       "</table>\n",
       "</div>"
      ],
      "text/plain": [
       "        Days  breakfast  lunch  snacks  dinnner  Total\n",
       "0     Monday         74    162     144      170    550\n",
       "1    Tuesday        105    155     132      168    560\n",
       "2  Wednesday        165    173     170      175    683\n",
       "3   Thursday        115    153     147      171    586\n",
       "4     Friday        135    175     138      156    604\n",
       "5   Saturday         98    122     129      145    494\n",
       "6     Sunday         94    129     124      136    483"
      ]
     },
     "execution_count": 12,
     "metadata": {},
     "output_type": "execute_result"
    }
   ],
   "source": [
    "df['Total'] = df['breakfast']+ df['lunch']+ df['snacks']+df['dinnner']\n",
    "df"
   ]
  },
  {
   "cell_type": "code",
   "execution_count": 13,
   "id": "1f9bc2cc",
   "metadata": {},
   "outputs": [
    {
     "data": {
      "text/html": [
       "<div>\n",
       "<style scoped>\n",
       "    .dataframe tbody tr th:only-of-type {\n",
       "        vertical-align: middle;\n",
       "    }\n",
       "\n",
       "    .dataframe tbody tr th {\n",
       "        vertical-align: top;\n",
       "    }\n",
       "\n",
       "    .dataframe thead th {\n",
       "        text-align: right;\n",
       "    }\n",
       "</style>\n",
       "<table border=\"1\" class=\"dataframe\">\n",
       "  <thead>\n",
       "    <tr style=\"text-align: right;\">\n",
       "      <th></th>\n",
       "      <th>index</th>\n",
       "      <th>0</th>\n",
       "    </tr>\n",
       "  </thead>\n",
       "  <tbody>\n",
       "    <tr>\n",
       "      <th>0</th>\n",
       "      <td>Days</td>\n",
       "      <td>Wednesday</td>\n",
       "    </tr>\n",
       "    <tr>\n",
       "      <th>1</th>\n",
       "      <td>breakfast</td>\n",
       "      <td>165</td>\n",
       "    </tr>\n",
       "    <tr>\n",
       "      <th>2</th>\n",
       "      <td>lunch</td>\n",
       "      <td>175</td>\n",
       "    </tr>\n",
       "    <tr>\n",
       "      <th>3</th>\n",
       "      <td>snacks</td>\n",
       "      <td>170</td>\n",
       "    </tr>\n",
       "    <tr>\n",
       "      <th>4</th>\n",
       "      <td>dinnner</td>\n",
       "      <td>175</td>\n",
       "    </tr>\n",
       "    <tr>\n",
       "      <th>5</th>\n",
       "      <td>Total</td>\n",
       "      <td>683</td>\n",
       "    </tr>\n",
       "  </tbody>\n",
       "</table>\n",
       "</div>"
      ],
      "text/plain": [
       "       index          0\n",
       "0       Days  Wednesday\n",
       "1  breakfast        165\n",
       "2      lunch        175\n",
       "3     snacks        170\n",
       "4    dinnner        175\n",
       "5      Total        683"
      ]
     },
     "execution_count": 13,
     "metadata": {},
     "output_type": "execute_result"
    }
   ],
   "source": [
    "df.max().reset_index()"
   ]
  },
  {
   "cell_type": "markdown",
   "id": "518e58fe",
   "metadata": {},
   "source": [
    "### Attendence for breakfast was below 100 on Monday , Saturday and Sunday"
   ]
  },
  {
   "cell_type": "markdown",
   "id": "59bf60ed",
   "metadata": {},
   "source": [
    "## 9. Correct the spellling of dinnner to dinner "
   ]
  },
  {
   "cell_type": "code",
   "execution_count": 14,
   "id": "d008e313",
   "metadata": {},
   "outputs": [
    {
     "data": {
      "text/html": [
       "<div>\n",
       "<style scoped>\n",
       "    .dataframe tbody tr th:only-of-type {\n",
       "        vertical-align: middle;\n",
       "    }\n",
       "\n",
       "    .dataframe tbody tr th {\n",
       "        vertical-align: top;\n",
       "    }\n",
       "\n",
       "    .dataframe thead th {\n",
       "        text-align: right;\n",
       "    }\n",
       "</style>\n",
       "<table border=\"1\" class=\"dataframe\">\n",
       "  <thead>\n",
       "    <tr style=\"text-align: right;\">\n",
       "      <th></th>\n",
       "      <th>Days</th>\n",
       "      <th>breakfast</th>\n",
       "      <th>lunch</th>\n",
       "      <th>snacks</th>\n",
       "      <th>dinner</th>\n",
       "      <th>Total</th>\n",
       "    </tr>\n",
       "  </thead>\n",
       "  <tbody>\n",
       "    <tr>\n",
       "      <th>0</th>\n",
       "      <td>Monday</td>\n",
       "      <td>74</td>\n",
       "      <td>162</td>\n",
       "      <td>144</td>\n",
       "      <td>170</td>\n",
       "      <td>550</td>\n",
       "    </tr>\n",
       "    <tr>\n",
       "      <th>1</th>\n",
       "      <td>Tuesday</td>\n",
       "      <td>105</td>\n",
       "      <td>155</td>\n",
       "      <td>132</td>\n",
       "      <td>168</td>\n",
       "      <td>560</td>\n",
       "    </tr>\n",
       "    <tr>\n",
       "      <th>2</th>\n",
       "      <td>Wednesday</td>\n",
       "      <td>165</td>\n",
       "      <td>173</td>\n",
       "      <td>170</td>\n",
       "      <td>175</td>\n",
       "      <td>683</td>\n",
       "    </tr>\n",
       "    <tr>\n",
       "      <th>3</th>\n",
       "      <td>Thursday</td>\n",
       "      <td>115</td>\n",
       "      <td>153</td>\n",
       "      <td>147</td>\n",
       "      <td>171</td>\n",
       "      <td>586</td>\n",
       "    </tr>\n",
       "    <tr>\n",
       "      <th>4</th>\n",
       "      <td>Friday</td>\n",
       "      <td>135</td>\n",
       "      <td>175</td>\n",
       "      <td>138</td>\n",
       "      <td>156</td>\n",
       "      <td>604</td>\n",
       "    </tr>\n",
       "    <tr>\n",
       "      <th>5</th>\n",
       "      <td>Saturday</td>\n",
       "      <td>98</td>\n",
       "      <td>122</td>\n",
       "      <td>129</td>\n",
       "      <td>145</td>\n",
       "      <td>494</td>\n",
       "    </tr>\n",
       "    <tr>\n",
       "      <th>6</th>\n",
       "      <td>Sunday</td>\n",
       "      <td>94</td>\n",
       "      <td>129</td>\n",
       "      <td>124</td>\n",
       "      <td>136</td>\n",
       "      <td>483</td>\n",
       "    </tr>\n",
       "  </tbody>\n",
       "</table>\n",
       "</div>"
      ],
      "text/plain": [
       "        Days  breakfast  lunch  snacks  dinner  Total\n",
       "0     Monday         74    162     144     170    550\n",
       "1    Tuesday        105    155     132     168    560\n",
       "2  Wednesday        165    173     170     175    683\n",
       "3   Thursday        115    153     147     171    586\n",
       "4     Friday        135    175     138     156    604\n",
       "5   Saturday         98    122     129     145    494\n",
       "6     Sunday         94    129     124     136    483"
      ]
     },
     "execution_count": 14,
     "metadata": {},
     "output_type": "execute_result"
    }
   ],
   "source": [
    "df.rename(columns={'dinnner':'dinner'})"
   ]
  },
  {
   "cell_type": "markdown",
   "id": "4904d96a",
   "metadata": {},
   "source": [
    "## 10. On which day(s) atttendence for breakfast was below 100 ?"
   ]
  },
  {
   "cell_type": "code",
   "execution_count": 15,
   "id": "31a90f2b",
   "metadata": {},
   "outputs": [
    {
     "data": {
      "text/html": [
       "<div>\n",
       "<style scoped>\n",
       "    .dataframe tbody tr th:only-of-type {\n",
       "        vertical-align: middle;\n",
       "    }\n",
       "\n",
       "    .dataframe tbody tr th {\n",
       "        vertical-align: top;\n",
       "    }\n",
       "\n",
       "    .dataframe thead th {\n",
       "        text-align: right;\n",
       "    }\n",
       "</style>\n",
       "<table border=\"1\" class=\"dataframe\">\n",
       "  <thead>\n",
       "    <tr style=\"text-align: right;\">\n",
       "      <th></th>\n",
       "      <th>index</th>\n",
       "      <th>Days</th>\n",
       "      <th>breakfast</th>\n",
       "      <th>lunch</th>\n",
       "      <th>snacks</th>\n",
       "      <th>dinnner</th>\n",
       "      <th>Total</th>\n",
       "    </tr>\n",
       "  </thead>\n",
       "  <tbody>\n",
       "    <tr>\n",
       "      <th>0</th>\n",
       "      <td>0</td>\n",
       "      <td>Monday</td>\n",
       "      <td>74</td>\n",
       "      <td>162</td>\n",
       "      <td>144</td>\n",
       "      <td>170</td>\n",
       "      <td>550</td>\n",
       "    </tr>\n",
       "    <tr>\n",
       "      <th>1</th>\n",
       "      <td>5</td>\n",
       "      <td>Saturday</td>\n",
       "      <td>98</td>\n",
       "      <td>122</td>\n",
       "      <td>129</td>\n",
       "      <td>145</td>\n",
       "      <td>494</td>\n",
       "    </tr>\n",
       "    <tr>\n",
       "      <th>2</th>\n",
       "      <td>6</td>\n",
       "      <td>Sunday</td>\n",
       "      <td>94</td>\n",
       "      <td>129</td>\n",
       "      <td>124</td>\n",
       "      <td>136</td>\n",
       "      <td>483</td>\n",
       "    </tr>\n",
       "  </tbody>\n",
       "</table>\n",
       "</div>"
      ],
      "text/plain": [
       "   index      Days  breakfast  lunch  snacks  dinnner  Total\n",
       "0      0    Monday         74    162     144      170    550\n",
       "1      5  Saturday         98    122     129      145    494\n",
       "2      6    Sunday         94    129     124      136    483"
      ]
     },
     "execution_count": 15,
     "metadata": {},
     "output_type": "execute_result"
    }
   ],
   "source": [
    "df = df[((df['breakfast']<100))]\n",
    "df.reset_index()"
   ]
  },
  {
   "cell_type": "code",
   "execution_count": 16,
   "id": "b6dd14dc",
   "metadata": {},
   "outputs": [
    {
     "data": {
      "image/png": "[encoded data removed]",
      "text/plain": [
       "<Figure size 432x288 with 1 Axes>"
      ]
     },
     "metadata": {
      "needs_background": "light"
     },
     "output_type": "display_data"
    }
   ],
   "source": [
    "df3 = df.plot(x =\"Days\",y=[\"breakfast\"], kind=\"bar\" , rot=15)"
   ]
  },
  {
   "cell_type": "markdown",
   "id": "0e23266d",
   "metadata": {},
   "source": [
    "### Attendence for breakfast was below 100 on Monday , Saturday and Sunday"
   ]
  },
  {
   "cell_type": "markdown",
   "id": "e6298b34",
   "metadata": {},
   "source": [
    "## Dashboard made with the help of Microsoft Power BI"
   ]
  },
  {
   "cell_type": "markdown",
   "id": "f61fe54f",
   "metadata": {},
   "source": [
    "![](boys_hostel_mess_dashboard.PNG)"
   ]
  },
  {
   "cell_type": "code",
   "execution_count": null,
   "id": "db984f07",
   "metadata": {},
   "outputs": [],
   "source": []
  }
 ],
 "metadata": {
  "kernelspec": {
   "display_name": "Python 3 (ipykernel)",
   "language": "python",
   "name": "python3"
  },
  "language_info": {
   "codemirror_mode": {
    "name": "ipython",
    "version": 3
   },
   "file_extension": ".py",
   "mimetype": "text/x-python",
   "name": "python",
   "nbconvert_exporter": "python",
   "pygments_lexer": "ipython3",
   "version": "3.9.7"
  }
 },
 "nbformat": 4,
 "nbformat_minor": 5
}
